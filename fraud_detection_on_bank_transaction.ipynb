{
 "cells": [
  {
   "cell_type": "code",
   "execution_count": 47,
   "id": "0792eb45",
   "metadata": {},
   "outputs": [],
   "source": [
    "import pandas as pd\n",
    "import numpy as np\n",
    "import seaborn as sns\n",
    "import matplotlib.pyplot as plt\n",
    "# set seaborn style because it prettier\n",
    "sns.set()\n",
    "\n",
    "from sklearn.model_selection import train_test_split\n",
    "from sklearn.metrics import confusion_matrix, classification_report\n",
    "from sklearn.metrics import roc_curve, auc\n",
    "\n",
    "import xgboost as xgb\n",
    "from sklearn.neighbors import KNeighborsClassifier\n",
    "from sklearn.ensemble import RandomForestClassifier\n",
    "from sklearn.ensemble import VotingClassifier"
   ]
  },
  {
   "cell_type": "code",
   "execution_count": 48,
   "id": "86f1c89d",
   "metadata": {},
   "outputs": [],
   "source": [
    "data=pd.read_csv('transaction1.csv')"
   ]
  },
  {
   "cell_type": "code",
   "execution_count": 49,
   "id": "f2005cca",
   "metadata": {},
   "outputs": [
    {
     "data": {
      "text/html": [
       "<div>\n",
       "<style scoped>\n",
       "    .dataframe tbody tr th:only-of-type {\n",
       "        vertical-align: middle;\n",
       "    }\n",
       "\n",
       "    .dataframe tbody tr th {\n",
       "        vertical-align: top;\n",
       "    }\n",
       "\n",
       "    .dataframe thead th {\n",
       "        text-align: right;\n",
       "    }\n",
       "</style>\n",
       "<table border=\"1\" class=\"dataframe\">\n",
       "  <thead>\n",
       "    <tr style=\"text-align: right;\">\n",
       "      <th></th>\n",
       "      <th>TransactionID</th>\n",
       "      <th>TransactionDate</th>\n",
       "      <th>Time</th>\n",
       "      <th>TransactionAmount (INR)</th>\n",
       "      <th>Mobile</th>\n",
       "      <th>IsFraud</th>\n",
       "    </tr>\n",
       "  </thead>\n",
       "  <tbody>\n",
       "    <tr>\n",
       "      <th>0</th>\n",
       "      <td>T1</td>\n",
       "      <td>02-08-2022</td>\n",
       "      <td>6242</td>\n",
       "      <td>25.0</td>\n",
       "      <td>9088909087</td>\n",
       "      <td>0</td>\n",
       "    </tr>\n",
       "    <tr>\n",
       "      <th>1</th>\n",
       "      <td>T2</td>\n",
       "      <td>02-08-2022</td>\n",
       "      <td>3761</td>\n",
       "      <td>27999.0</td>\n",
       "      <td>9088909088</td>\n",
       "      <td>0</td>\n",
       "    </tr>\n",
       "    <tr>\n",
       "      <th>2</th>\n",
       "      <td>T3</td>\n",
       "      <td>02-08-2022</td>\n",
       "      <td>5747</td>\n",
       "      <td>459.0</td>\n",
       "      <td>9088909089</td>\n",
       "      <td>0</td>\n",
       "    </tr>\n",
       "    <tr>\n",
       "      <th>3</th>\n",
       "      <td>T4</td>\n",
       "      <td>02-08-2022</td>\n",
       "      <td>3590</td>\n",
       "      <td>2060.0</td>\n",
       "      <td>9088909090</td>\n",
       "      <td>0</td>\n",
       "    </tr>\n",
       "    <tr>\n",
       "      <th>4</th>\n",
       "      <td>T5</td>\n",
       "      <td>02-08-2022</td>\n",
       "      <td>6329</td>\n",
       "      <td>1762.5</td>\n",
       "      <td>9088909091</td>\n",
       "      <td>0</td>\n",
       "    </tr>\n",
       "  </tbody>\n",
       "</table>\n",
       "</div>"
      ],
      "text/plain": [
       "  TransactionID TransactionDate  Time  TransactionAmount (INR)      Mobile  \\\n",
       "0            T1      02-08-2022  6242                     25.0  9088909087   \n",
       "1            T2      02-08-2022  3761                  27999.0  9088909088   \n",
       "2            T3      02-08-2022  5747                    459.0  9088909089   \n",
       "3            T4      02-08-2022  3590                   2060.0  9088909090   \n",
       "4            T5      02-08-2022  6329                   1762.5  9088909091   \n",
       "\n",
       "   IsFraud  \n",
       "0        0  \n",
       "1        0  \n",
       "2        0  \n",
       "3        0  \n",
       "4        0  "
      ]
     },
     "execution_count": 49,
     "metadata": {},
     "output_type": "execute_result"
    }
   ],
   "source": [
    "data.head()"
   ]
  },
  {
   "cell_type": "code",
   "execution_count": 50,
   "id": "d404cea2",
   "metadata": {},
   "outputs": [
    {
     "data": {
      "text/plain": [
       "(90779, 6)"
      ]
     },
     "execution_count": 50,
     "metadata": {},
     "output_type": "execute_result"
    }
   ],
   "source": [
    "data.shape"
   ]
  },
  {
   "cell_type": "code",
   "execution_count": 51,
   "id": "c8599999",
   "metadata": {},
   "outputs": [
    {
     "data": {
      "text/plain": [
       "86373"
      ]
     },
     "execution_count": 51,
     "metadata": {},
     "output_type": "execute_result"
    }
   ],
   "source": [
    "len(pd.unique(data['TransactionID']))"
   ]
  },
  {
   "cell_type": "code",
   "execution_count": 52,
   "id": "64746784",
   "metadata": {},
   "outputs": [
    {
     "data": {
      "text/plain": [
       "3122"
      ]
     },
     "execution_count": 52,
     "metadata": {},
     "output_type": "execute_result"
    }
   ],
   "source": [
    "len(pd.unique(data['Mobile']))"
   ]
  },
  {
   "cell_type": "code",
   "execution_count": 53,
   "id": "8f0c289b",
   "metadata": {},
   "outputs": [],
   "source": [
    "duplicate=data[data.duplicated(['TransactionID'])]"
   ]
  },
  {
   "cell_type": "code",
   "execution_count": 54,
   "id": "f090d8c7",
   "metadata": {},
   "outputs": [
    {
     "data": {
      "text/html": [
       "<div>\n",
       "<style scoped>\n",
       "    .dataframe tbody tr th:only-of-type {\n",
       "        vertical-align: middle;\n",
       "    }\n",
       "\n",
       "    .dataframe tbody tr th {\n",
       "        vertical-align: top;\n",
       "    }\n",
       "\n",
       "    .dataframe thead th {\n",
       "        text-align: right;\n",
       "    }\n",
       "</style>\n",
       "<table border=\"1\" class=\"dataframe\">\n",
       "  <thead>\n",
       "    <tr style=\"text-align: right;\">\n",
       "      <th></th>\n",
       "      <th>TransactionID</th>\n",
       "      <th>TransactionDate</th>\n",
       "      <th>Time</th>\n",
       "      <th>TransactionAmount (INR)</th>\n",
       "      <th>Mobile</th>\n",
       "      <th>IsFraud</th>\n",
       "    </tr>\n",
       "  </thead>\n",
       "  <tbody>\n",
       "    <tr>\n",
       "      <th>693</th>\n",
       "      <td>T484</td>\n",
       "      <td>21-10-2022</td>\n",
       "      <td>3871</td>\n",
       "      <td>177.0</td>\n",
       "      <td>9088909738</td>\n",
       "      <td>0</td>\n",
       "    </tr>\n",
       "    <tr>\n",
       "      <th>694</th>\n",
       "      <td>T485</td>\n",
       "      <td>21-10-2022</td>\n",
       "      <td>740</td>\n",
       "      <td>2060.0</td>\n",
       "      <td>9088909739</td>\n",
       "      <td>1</td>\n",
       "    </tr>\n",
       "    <tr>\n",
       "      <th>695</th>\n",
       "      <td>T486</td>\n",
       "      <td>21-10-2022</td>\n",
       "      <td>1328</td>\n",
       "      <td>295.0</td>\n",
       "      <td>9088909740</td>\n",
       "      <td>0</td>\n",
       "    </tr>\n",
       "    <tr>\n",
       "      <th>696</th>\n",
       "      <td>T487</td>\n",
       "      <td>21-10-2022</td>\n",
       "      <td>726</td>\n",
       "      <td>1540.0</td>\n",
       "      <td>9088909741</td>\n",
       "      <td>1</td>\n",
       "    </tr>\n",
       "    <tr>\n",
       "      <th>697</th>\n",
       "      <td>T488</td>\n",
       "      <td>21-10-2022</td>\n",
       "      <td>4513</td>\n",
       "      <td>30.0</td>\n",
       "      <td>9088909742</td>\n",
       "      <td>0</td>\n",
       "    </tr>\n",
       "    <tr>\n",
       "      <th>...</th>\n",
       "      <td>...</td>\n",
       "      <td>...</td>\n",
       "      <td>...</td>\n",
       "      <td>...</td>\n",
       "      <td>...</td>\n",
       "      <td>...</td>\n",
       "    </tr>\n",
       "    <tr>\n",
       "      <th>90774</th>\n",
       "      <td>T5844</td>\n",
       "      <td>01-08-1930</td>\n",
       "      <td>3727</td>\n",
       "      <td>1526.0</td>\n",
       "      <td>9088910265</td>\n",
       "      <td>0</td>\n",
       "    </tr>\n",
       "    <tr>\n",
       "      <th>90775</th>\n",
       "      <td>T5845</td>\n",
       "      <td>01-08-1930</td>\n",
       "      <td>1521</td>\n",
       "      <td>1527.0</td>\n",
       "      <td>9088910266</td>\n",
       "      <td>0</td>\n",
       "    </tr>\n",
       "    <tr>\n",
       "      <th>90776</th>\n",
       "      <td>T5846</td>\n",
       "      <td>01-08-1930</td>\n",
       "      <td>6265</td>\n",
       "      <td>1528.0</td>\n",
       "      <td>9088910267</td>\n",
       "      <td>0</td>\n",
       "    </tr>\n",
       "    <tr>\n",
       "      <th>90777</th>\n",
       "      <td>T5847</td>\n",
       "      <td>01-08-1930</td>\n",
       "      <td>17</td>\n",
       "      <td>1529.0</td>\n",
       "      <td>9088910268</td>\n",
       "      <td>1</td>\n",
       "    </tr>\n",
       "    <tr>\n",
       "      <th>90778</th>\n",
       "      <td>T5848</td>\n",
       "      <td>01-08-1930</td>\n",
       "      <td>1077</td>\n",
       "      <td>1530.0</td>\n",
       "      <td>9088910269</td>\n",
       "      <td>0</td>\n",
       "    </tr>\n",
       "  </tbody>\n",
       "</table>\n",
       "<p>4406 rows × 6 columns</p>\n",
       "</div>"
      ],
      "text/plain": [
       "      TransactionID TransactionDate  Time  TransactionAmount (INR)  \\\n",
       "693            T484      21-10-2022  3871                    177.0   \n",
       "694            T485      21-10-2022   740                   2060.0   \n",
       "695            T486      21-10-2022  1328                    295.0   \n",
       "696            T487      21-10-2022   726                   1540.0   \n",
       "697            T488      21-10-2022  4513                     30.0   \n",
       "...             ...             ...   ...                      ...   \n",
       "90774         T5844      01-08-1930  3727                   1526.0   \n",
       "90775         T5845      01-08-1930  1521                   1527.0   \n",
       "90776         T5846      01-08-1930  6265                   1528.0   \n",
       "90777         T5847      01-08-1930    17                   1529.0   \n",
       "90778         T5848      01-08-1930  1077                   1530.0   \n",
       "\n",
       "           Mobile  IsFraud  \n",
       "693    9088909738        0  \n",
       "694    9088909739        1  \n",
       "695    9088909740        0  \n",
       "696    9088909741        1  \n",
       "697    9088909742        0  \n",
       "...           ...      ...  \n",
       "90774  9088910265        0  \n",
       "90775  9088910266        0  \n",
       "90776  9088910267        0  \n",
       "90777  9088910268        1  \n",
       "90778  9088910269        0  \n",
       "\n",
       "[4406 rows x 6 columns]"
      ]
     },
     "execution_count": 54,
     "metadata": {},
     "output_type": "execute_result"
    }
   ],
   "source": [
    "duplicate"
   ]
  },
  {
   "cell_type": "code",
   "execution_count": 55,
   "id": "27b3357d",
   "metadata": {},
   "outputs": [],
   "source": [
    "to_update=data.copy()"
   ]
  },
  {
   "cell_type": "code",
   "execution_count": 56,
   "id": "a31e6689",
   "metadata": {},
   "outputs": [
    {
     "data": {
      "text/html": [
       "<div>\n",
       "<style scoped>\n",
       "    .dataframe tbody tr th:only-of-type {\n",
       "        vertical-align: middle;\n",
       "    }\n",
       "\n",
       "    .dataframe tbody tr th {\n",
       "        vertical-align: top;\n",
       "    }\n",
       "\n",
       "    .dataframe thead th {\n",
       "        text-align: right;\n",
       "    }\n",
       "</style>\n",
       "<table border=\"1\" class=\"dataframe\">\n",
       "  <thead>\n",
       "    <tr style=\"text-align: right;\">\n",
       "      <th></th>\n",
       "      <th>TransactionID</th>\n",
       "      <th>TransactionDate</th>\n",
       "      <th>Time</th>\n",
       "      <th>TransactionAmount (INR)</th>\n",
       "      <th>Mobile</th>\n",
       "      <th>IsFraud</th>\n",
       "    </tr>\n",
       "  </thead>\n",
       "  <tbody>\n",
       "    <tr>\n",
       "      <th>0</th>\n",
       "      <td>T1</td>\n",
       "      <td>02-08-2022</td>\n",
       "      <td>6242</td>\n",
       "      <td>25.0</td>\n",
       "      <td>9088909087</td>\n",
       "      <td>0</td>\n",
       "    </tr>\n",
       "    <tr>\n",
       "      <th>1</th>\n",
       "      <td>T2</td>\n",
       "      <td>02-08-2022</td>\n",
       "      <td>3761</td>\n",
       "      <td>27999.0</td>\n",
       "      <td>9088909088</td>\n",
       "      <td>0</td>\n",
       "    </tr>\n",
       "    <tr>\n",
       "      <th>2</th>\n",
       "      <td>T3</td>\n",
       "      <td>02-08-2022</td>\n",
       "      <td>5747</td>\n",
       "      <td>459.0</td>\n",
       "      <td>9088909089</td>\n",
       "      <td>0</td>\n",
       "    </tr>\n",
       "    <tr>\n",
       "      <th>3</th>\n",
       "      <td>T4</td>\n",
       "      <td>02-08-2022</td>\n",
       "      <td>3590</td>\n",
       "      <td>2060.0</td>\n",
       "      <td>9088909090</td>\n",
       "      <td>0</td>\n",
       "    </tr>\n",
       "    <tr>\n",
       "      <th>4</th>\n",
       "      <td>T5</td>\n",
       "      <td>02-08-2022</td>\n",
       "      <td>6329</td>\n",
       "      <td>1762.5</td>\n",
       "      <td>9088909091</td>\n",
       "      <td>0</td>\n",
       "    </tr>\n",
       "    <tr>\n",
       "      <th>...</th>\n",
       "      <td>...</td>\n",
       "      <td>...</td>\n",
       "      <td>...</td>\n",
       "      <td>...</td>\n",
       "      <td>...</td>\n",
       "      <td>...</td>\n",
       "    </tr>\n",
       "    <tr>\n",
       "      <th>90774</th>\n",
       "      <td>T5844</td>\n",
       "      <td>01-08-1930</td>\n",
       "      <td>3727</td>\n",
       "      <td>1526.0</td>\n",
       "      <td>9088910265</td>\n",
       "      <td>0</td>\n",
       "    </tr>\n",
       "    <tr>\n",
       "      <th>90775</th>\n",
       "      <td>T5845</td>\n",
       "      <td>01-08-1930</td>\n",
       "      <td>1521</td>\n",
       "      <td>1527.0</td>\n",
       "      <td>9088910266</td>\n",
       "      <td>0</td>\n",
       "    </tr>\n",
       "    <tr>\n",
       "      <th>90776</th>\n",
       "      <td>T5846</td>\n",
       "      <td>01-08-1930</td>\n",
       "      <td>6265</td>\n",
       "      <td>1528.0</td>\n",
       "      <td>9088910267</td>\n",
       "      <td>0</td>\n",
       "    </tr>\n",
       "    <tr>\n",
       "      <th>90777</th>\n",
       "      <td>T5847</td>\n",
       "      <td>01-08-1930</td>\n",
       "      <td>17</td>\n",
       "      <td>1529.0</td>\n",
       "      <td>9088910268</td>\n",
       "      <td>1</td>\n",
       "    </tr>\n",
       "    <tr>\n",
       "      <th>90778</th>\n",
       "      <td>T5848</td>\n",
       "      <td>01-08-1930</td>\n",
       "      <td>1077</td>\n",
       "      <td>1530.0</td>\n",
       "      <td>9088910269</td>\n",
       "      <td>0</td>\n",
       "    </tr>\n",
       "  </tbody>\n",
       "</table>\n",
       "<p>90779 rows × 6 columns</p>\n",
       "</div>"
      ],
      "text/plain": [
       "      TransactionID TransactionDate  Time  TransactionAmount (INR)  \\\n",
       "0                T1      02-08-2022  6242                     25.0   \n",
       "1                T2      02-08-2022  3761                  27999.0   \n",
       "2                T3      02-08-2022  5747                    459.0   \n",
       "3                T4      02-08-2022  3590                   2060.0   \n",
       "4                T5      02-08-2022  6329                   1762.5   \n",
       "...             ...             ...   ...                      ...   \n",
       "90774         T5844      01-08-1930  3727                   1526.0   \n",
       "90775         T5845      01-08-1930  1521                   1527.0   \n",
       "90776         T5846      01-08-1930  6265                   1528.0   \n",
       "90777         T5847      01-08-1930    17                   1529.0   \n",
       "90778         T5848      01-08-1930  1077                   1530.0   \n",
       "\n",
       "           Mobile  IsFraud  \n",
       "0      9088909087        0  \n",
       "1      9088909088        0  \n",
       "2      9088909089        0  \n",
       "3      9088909090        0  \n",
       "4      9088909091        0  \n",
       "...           ...      ...  \n",
       "90774  9088910265        0  \n",
       "90775  9088910266        0  \n",
       "90776  9088910267        0  \n",
       "90777  9088910268        1  \n",
       "90778  9088910269        0  \n",
       "\n",
       "[90779 rows x 6 columns]"
      ]
     },
     "execution_count": 56,
     "metadata": {},
     "output_type": "execute_result"
    }
   ],
   "source": [
    "to_update"
   ]
  },
  {
   "cell_type": "code",
   "execution_count": 57,
   "id": "5277b995",
   "metadata": {},
   "outputs": [],
   "source": [
    "del to_update['TransactionDate']"
   ]
  },
  {
   "cell_type": "code",
   "execution_count": 58,
   "id": "f0bd2ca6",
   "metadata": {},
   "outputs": [
    {
     "data": {
      "text/html": [
       "<div>\n",
       "<style scoped>\n",
       "    .dataframe tbody tr th:only-of-type {\n",
       "        vertical-align: middle;\n",
       "    }\n",
       "\n",
       "    .dataframe tbody tr th {\n",
       "        vertical-align: top;\n",
       "    }\n",
       "\n",
       "    .dataframe thead th {\n",
       "        text-align: right;\n",
       "    }\n",
       "</style>\n",
       "<table border=\"1\" class=\"dataframe\">\n",
       "  <thead>\n",
       "    <tr style=\"text-align: right;\">\n",
       "      <th></th>\n",
       "      <th>TransactionID</th>\n",
       "      <th>TransactionDate</th>\n",
       "      <th>Time</th>\n",
       "      <th>TransactionAmount (INR)</th>\n",
       "      <th>Mobile</th>\n",
       "      <th>IsFraud</th>\n",
       "    </tr>\n",
       "  </thead>\n",
       "  <tbody>\n",
       "    <tr>\n",
       "      <th>0</th>\n",
       "      <td>T1</td>\n",
       "      <td>02-08-2022</td>\n",
       "      <td>6242</td>\n",
       "      <td>25.0</td>\n",
       "      <td>9088909087</td>\n",
       "      <td>0</td>\n",
       "    </tr>\n",
       "    <tr>\n",
       "      <th>1</th>\n",
       "      <td>T2</td>\n",
       "      <td>02-08-2022</td>\n",
       "      <td>3761</td>\n",
       "      <td>27999.0</td>\n",
       "      <td>9088909088</td>\n",
       "      <td>0</td>\n",
       "    </tr>\n",
       "    <tr>\n",
       "      <th>2</th>\n",
       "      <td>T3</td>\n",
       "      <td>02-08-2022</td>\n",
       "      <td>5747</td>\n",
       "      <td>459.0</td>\n",
       "      <td>9088909089</td>\n",
       "      <td>0</td>\n",
       "    </tr>\n",
       "    <tr>\n",
       "      <th>3</th>\n",
       "      <td>T4</td>\n",
       "      <td>02-08-2022</td>\n",
       "      <td>3590</td>\n",
       "      <td>2060.0</td>\n",
       "      <td>9088909090</td>\n",
       "      <td>0</td>\n",
       "    </tr>\n",
       "    <tr>\n",
       "      <th>4</th>\n",
       "      <td>T5</td>\n",
       "      <td>02-08-2022</td>\n",
       "      <td>6329</td>\n",
       "      <td>1762.5</td>\n",
       "      <td>9088909091</td>\n",
       "      <td>0</td>\n",
       "    </tr>\n",
       "    <tr>\n",
       "      <th>...</th>\n",
       "      <td>...</td>\n",
       "      <td>...</td>\n",
       "      <td>...</td>\n",
       "      <td>...</td>\n",
       "      <td>...</td>\n",
       "      <td>...</td>\n",
       "    </tr>\n",
       "    <tr>\n",
       "      <th>90774</th>\n",
       "      <td>T5844</td>\n",
       "      <td>01-08-1930</td>\n",
       "      <td>3727</td>\n",
       "      <td>1526.0</td>\n",
       "      <td>9088910265</td>\n",
       "      <td>0</td>\n",
       "    </tr>\n",
       "    <tr>\n",
       "      <th>90775</th>\n",
       "      <td>T5845</td>\n",
       "      <td>01-08-1930</td>\n",
       "      <td>1521</td>\n",
       "      <td>1527.0</td>\n",
       "      <td>9088910266</td>\n",
       "      <td>0</td>\n",
       "    </tr>\n",
       "    <tr>\n",
       "      <th>90776</th>\n",
       "      <td>T5846</td>\n",
       "      <td>01-08-1930</td>\n",
       "      <td>6265</td>\n",
       "      <td>1528.0</td>\n",
       "      <td>9088910267</td>\n",
       "      <td>0</td>\n",
       "    </tr>\n",
       "    <tr>\n",
       "      <th>90777</th>\n",
       "      <td>T5847</td>\n",
       "      <td>01-08-1930</td>\n",
       "      <td>17</td>\n",
       "      <td>1529.0</td>\n",
       "      <td>9088910268</td>\n",
       "      <td>1</td>\n",
       "    </tr>\n",
       "    <tr>\n",
       "      <th>90778</th>\n",
       "      <td>T5848</td>\n",
       "      <td>01-08-1930</td>\n",
       "      <td>1077</td>\n",
       "      <td>1530.0</td>\n",
       "      <td>9088910269</td>\n",
       "      <td>0</td>\n",
       "    </tr>\n",
       "  </tbody>\n",
       "</table>\n",
       "<p>90779 rows × 6 columns</p>\n",
       "</div>"
      ],
      "text/plain": [
       "      TransactionID TransactionDate  Time  TransactionAmount (INR)  \\\n",
       "0                T1      02-08-2022  6242                     25.0   \n",
       "1                T2      02-08-2022  3761                  27999.0   \n",
       "2                T3      02-08-2022  5747                    459.0   \n",
       "3                T4      02-08-2022  3590                   2060.0   \n",
       "4                T5      02-08-2022  6329                   1762.5   \n",
       "...             ...             ...   ...                      ...   \n",
       "90774         T5844      01-08-1930  3727                   1526.0   \n",
       "90775         T5845      01-08-1930  1521                   1527.0   \n",
       "90776         T5846      01-08-1930  6265                   1528.0   \n",
       "90777         T5847      01-08-1930    17                   1529.0   \n",
       "90778         T5848      01-08-1930  1077                   1530.0   \n",
       "\n",
       "           Mobile  IsFraud  \n",
       "0      9088909087        0  \n",
       "1      9088909088        0  \n",
       "2      9088909089        0  \n",
       "3      9088909090        0  \n",
       "4      9088909091        0  \n",
       "...           ...      ...  \n",
       "90774  9088910265        0  \n",
       "90775  9088910266        0  \n",
       "90776  9088910267        0  \n",
       "90777  9088910268        1  \n",
       "90778  9088910269        0  \n",
       "\n",
       "[90779 rows x 6 columns]"
      ]
     },
     "execution_count": 58,
     "metadata": {},
     "output_type": "execute_result"
    }
   ],
   "source": [
    "data"
   ]
  },
  {
   "cell_type": "code",
   "execution_count": 59,
   "id": "c28bb843",
   "metadata": {},
   "outputs": [
    {
     "data": {
      "text/html": [
       "<div>\n",
       "<style scoped>\n",
       "    .dataframe tbody tr th:only-of-type {\n",
       "        vertical-align: middle;\n",
       "    }\n",
       "\n",
       "    .dataframe tbody tr th {\n",
       "        vertical-align: top;\n",
       "    }\n",
       "\n",
       "    .dataframe thead th {\n",
       "        text-align: right;\n",
       "    }\n",
       "</style>\n",
       "<table border=\"1\" class=\"dataframe\">\n",
       "  <thead>\n",
       "    <tr style=\"text-align: right;\">\n",
       "      <th></th>\n",
       "      <th>TransactionID</th>\n",
       "      <th>Time</th>\n",
       "      <th>TransactionAmount (INR)</th>\n",
       "      <th>Mobile</th>\n",
       "      <th>IsFraud</th>\n",
       "    </tr>\n",
       "  </thead>\n",
       "  <tbody>\n",
       "    <tr>\n",
       "      <th>0</th>\n",
       "      <td>T1</td>\n",
       "      <td>6242</td>\n",
       "      <td>25.0</td>\n",
       "      <td>9088909087</td>\n",
       "      <td>0</td>\n",
       "    </tr>\n",
       "    <tr>\n",
       "      <th>1</th>\n",
       "      <td>T2</td>\n",
       "      <td>3761</td>\n",
       "      <td>27999.0</td>\n",
       "      <td>9088909088</td>\n",
       "      <td>0</td>\n",
       "    </tr>\n",
       "    <tr>\n",
       "      <th>2</th>\n",
       "      <td>T3</td>\n",
       "      <td>5747</td>\n",
       "      <td>459.0</td>\n",
       "      <td>9088909089</td>\n",
       "      <td>0</td>\n",
       "    </tr>\n",
       "    <tr>\n",
       "      <th>3</th>\n",
       "      <td>T4</td>\n",
       "      <td>3590</td>\n",
       "      <td>2060.0</td>\n",
       "      <td>9088909090</td>\n",
       "      <td>0</td>\n",
       "    </tr>\n",
       "    <tr>\n",
       "      <th>4</th>\n",
       "      <td>T5</td>\n",
       "      <td>6329</td>\n",
       "      <td>1762.5</td>\n",
       "      <td>9088909091</td>\n",
       "      <td>0</td>\n",
       "    </tr>\n",
       "    <tr>\n",
       "      <th>...</th>\n",
       "      <td>...</td>\n",
       "      <td>...</td>\n",
       "      <td>...</td>\n",
       "      <td>...</td>\n",
       "      <td>...</td>\n",
       "    </tr>\n",
       "    <tr>\n",
       "      <th>90774</th>\n",
       "      <td>T5844</td>\n",
       "      <td>3727</td>\n",
       "      <td>1526.0</td>\n",
       "      <td>9088910265</td>\n",
       "      <td>0</td>\n",
       "    </tr>\n",
       "    <tr>\n",
       "      <th>90775</th>\n",
       "      <td>T5845</td>\n",
       "      <td>1521</td>\n",
       "      <td>1527.0</td>\n",
       "      <td>9088910266</td>\n",
       "      <td>0</td>\n",
       "    </tr>\n",
       "    <tr>\n",
       "      <th>90776</th>\n",
       "      <td>T5846</td>\n",
       "      <td>6265</td>\n",
       "      <td>1528.0</td>\n",
       "      <td>9088910267</td>\n",
       "      <td>0</td>\n",
       "    </tr>\n",
       "    <tr>\n",
       "      <th>90777</th>\n",
       "      <td>T5847</td>\n",
       "      <td>17</td>\n",
       "      <td>1529.0</td>\n",
       "      <td>9088910268</td>\n",
       "      <td>1</td>\n",
       "    </tr>\n",
       "    <tr>\n",
       "      <th>90778</th>\n",
       "      <td>T5848</td>\n",
       "      <td>1077</td>\n",
       "      <td>1530.0</td>\n",
       "      <td>9088910269</td>\n",
       "      <td>0</td>\n",
       "    </tr>\n",
       "  </tbody>\n",
       "</table>\n",
       "<p>90779 rows × 5 columns</p>\n",
       "</div>"
      ],
      "text/plain": [
       "      TransactionID  Time  TransactionAmount (INR)      Mobile  IsFraud\n",
       "0                T1  6242                     25.0  9088909087        0\n",
       "1                T2  3761                  27999.0  9088909088        0\n",
       "2                T3  5747                    459.0  9088909089        0\n",
       "3                T4  3590                   2060.0  9088909090        0\n",
       "4                T5  6329                   1762.5  9088909091        0\n",
       "...             ...   ...                      ...         ...      ...\n",
       "90774         T5844  3727                   1526.0  9088910265        0\n",
       "90775         T5845  1521                   1527.0  9088910266        0\n",
       "90776         T5846  6265                   1528.0  9088910267        0\n",
       "90777         T5847    17                   1529.0  9088910268        1\n",
       "90778         T5848  1077                   1530.0  9088910269        0\n",
       "\n",
       "[90779 rows x 5 columns]"
      ]
     },
     "execution_count": 59,
     "metadata": {},
     "output_type": "execute_result"
    }
   ],
   "source": [
    "to_update"
   ]
  },
  {
   "cell_type": "code",
   "execution_count": 60,
   "id": "d7d48945",
   "metadata": {},
   "outputs": [
    {
     "name": "stdout",
     "output_type": "stream",
     "text": [
      "<class 'pandas.core.frame.DataFrame'>\n",
      "RangeIndex: 90779 entries, 0 to 90778\n",
      "Data columns (total 6 columns):\n",
      " #   Column                   Non-Null Count  Dtype  \n",
      "---  ------                   --------------  -----  \n",
      " 0   TransactionID            90779 non-null  object \n",
      " 1   TransactionDate          90779 non-null  object \n",
      " 2   Time                     90779 non-null  int64  \n",
      " 3   TransactionAmount (INR)  90779 non-null  float64\n",
      " 4   Mobile                   90779 non-null  int64  \n",
      " 5   IsFraud                  90779 non-null  int64  \n",
      "dtypes: float64(1), int64(3), object(2)\n",
      "memory usage: 4.2+ MB\n"
     ]
    }
   ],
   "source": [
    "data.info()"
   ]
  },
  {
   "cell_type": "code",
   "execution_count": 61,
   "id": "48a1840a",
   "metadata": {},
   "outputs": [
    {
     "name": "stdout",
     "output_type": "stream",
     "text": [
      "<class 'pandas.core.frame.DataFrame'>\n",
      "RangeIndex: 90779 entries, 0 to 90778\n",
      "Data columns (total 5 columns):\n",
      " #   Column                   Non-Null Count  Dtype  \n",
      "---  ------                   --------------  -----  \n",
      " 0   TransactionID            90779 non-null  object \n",
      " 1   Time                     90779 non-null  int64  \n",
      " 2   TransactionAmount (INR)  90779 non-null  float64\n",
      " 3   Mobile                   90779 non-null  int64  \n",
      " 4   IsFraud                  90779 non-null  int64  \n",
      "dtypes: float64(1), int64(3), object(1)\n",
      "memory usage: 3.5+ MB\n"
     ]
    }
   ],
   "source": [
    "to_update.info()"
   ]
  },
  {
   "cell_type": "code",
   "execution_count": 62,
   "id": "77510334",
   "metadata": {},
   "outputs": [],
   "source": [
    "df_fraud=to_update.loc[to_update.IsFraud==1]\n",
    "df_not_fraud=to_update.loc[to_update.IsFraud==0]"
   ]
  },
  {
   "cell_type": "code",
   "execution_count": 63,
   "id": "7fd7b54d",
   "metadata": {},
   "outputs": [
    {
     "name": "stdout",
     "output_type": "stream",
     "text": [
      "number of non fraud examples:  77513\n",
      "number of fraud examples:  13266\n"
     ]
    }
   ],
   "source": [
    "print('number of non fraud examples: ',len(df_not_fraud))\n",
    "print('number of fraud examples: ',len(df_fraud))"
   ]
  },
  {
   "cell_type": "code",
   "execution_count": 64,
   "id": "12442e9a",
   "metadata": {},
   "outputs": [
    {
     "data": {
      "text/html": [
       "<div>\n",
       "<style scoped>\n",
       "    .dataframe tbody tr th:only-of-type {\n",
       "        vertical-align: middle;\n",
       "    }\n",
       "\n",
       "    .dataframe tbody tr th {\n",
       "        vertical-align: top;\n",
       "    }\n",
       "\n",
       "    .dataframe thead th {\n",
       "        text-align: right;\n",
       "    }\n",
       "</style>\n",
       "<table border=\"1\" class=\"dataframe\">\n",
       "  <thead>\n",
       "    <tr style=\"text-align: right;\">\n",
       "      <th></th>\n",
       "      <th>TransactionID</th>\n",
       "      <th>Time</th>\n",
       "      <th>TransactionAmount (INR)</th>\n",
       "      <th>Mobile</th>\n",
       "      <th>IsFraud</th>\n",
       "    </tr>\n",
       "  </thead>\n",
       "  <tbody>\n",
       "    <tr>\n",
       "      <th>10</th>\n",
       "      <td>T11</td>\n",
       "      <td>611</td>\n",
       "      <td>259.0</td>\n",
       "      <td>9088909097</td>\n",
       "      <td>1</td>\n",
       "    </tr>\n",
       "    <tr>\n",
       "      <th>15</th>\n",
       "      <td>T16</td>\n",
       "      <td>776</td>\n",
       "      <td>250.0</td>\n",
       "      <td>9088909102</td>\n",
       "      <td>1</td>\n",
       "    </tr>\n",
       "    <tr>\n",
       "      <th>17</th>\n",
       "      <td>T18</td>\n",
       "      <td>516</td>\n",
       "      <td>54.0</td>\n",
       "      <td>9088909104</td>\n",
       "      <td>1</td>\n",
       "    </tr>\n",
       "    <tr>\n",
       "      <th>21</th>\n",
       "      <td>T22</td>\n",
       "      <td>77</td>\n",
       "      <td>27.0</td>\n",
       "      <td>9088909108</td>\n",
       "      <td>1</td>\n",
       "    </tr>\n",
       "    <tr>\n",
       "      <th>24</th>\n",
       "      <td>T25</td>\n",
       "      <td>880</td>\n",
       "      <td>1892.0</td>\n",
       "      <td>9088909090</td>\n",
       "      <td>1</td>\n",
       "    </tr>\n",
       "  </tbody>\n",
       "</table>\n",
       "</div>"
      ],
      "text/plain": [
       "   TransactionID  Time  TransactionAmount (INR)      Mobile  IsFraud\n",
       "10           T11   611                    259.0  9088909097        1\n",
       "15           T16   776                    250.0  9088909102        1\n",
       "17           T18   516                     54.0  9088909104        1\n",
       "21           T22    77                     27.0  9088909108        1\n",
       "24           T25   880                   1892.0  9088909090        1"
      ]
     },
     "execution_count": 64,
     "metadata": {},
     "output_type": "execute_result"
    }
   ],
   "source": [
    "df_fraud.head()"
   ]
  },
  {
   "cell_type": "code",
   "execution_count": 65,
   "id": "4af25c94",
   "metadata": {},
   "outputs": [],
   "source": [
    "x=to_update.drop(['IsFraud'],axis=1)\n",
    "y=to_update['IsFraud']"
   ]
  },
  {
   "cell_type": "code",
   "execution_count": 66,
   "id": "c9f5c5b9",
   "metadata": {},
   "outputs": [
    {
     "data": {
      "text/html": [
       "<div>\n",
       "<style scoped>\n",
       "    .dataframe tbody tr th:only-of-type {\n",
       "        vertical-align: middle;\n",
       "    }\n",
       "\n",
       "    .dataframe tbody tr th {\n",
       "        vertical-align: top;\n",
       "    }\n",
       "\n",
       "    .dataframe thead th {\n",
       "        text-align: right;\n",
       "    }\n",
       "</style>\n",
       "<table border=\"1\" class=\"dataframe\">\n",
       "  <thead>\n",
       "    <tr style=\"text-align: right;\">\n",
       "      <th></th>\n",
       "      <th>TransactionID</th>\n",
       "      <th>Time</th>\n",
       "      <th>TransactionAmount (INR)</th>\n",
       "      <th>Mobile</th>\n",
       "    </tr>\n",
       "  </thead>\n",
       "  <tbody>\n",
       "    <tr>\n",
       "      <th>0</th>\n",
       "      <td>T1</td>\n",
       "      <td>6242</td>\n",
       "      <td>25.0</td>\n",
       "      <td>9088909087</td>\n",
       "    </tr>\n",
       "    <tr>\n",
       "      <th>1</th>\n",
       "      <td>T2</td>\n",
       "      <td>3761</td>\n",
       "      <td>27999.0</td>\n",
       "      <td>9088909088</td>\n",
       "    </tr>\n",
       "    <tr>\n",
       "      <th>2</th>\n",
       "      <td>T3</td>\n",
       "      <td>5747</td>\n",
       "      <td>459.0</td>\n",
       "      <td>9088909089</td>\n",
       "    </tr>\n",
       "    <tr>\n",
       "      <th>3</th>\n",
       "      <td>T4</td>\n",
       "      <td>3590</td>\n",
       "      <td>2060.0</td>\n",
       "      <td>9088909090</td>\n",
       "    </tr>\n",
       "    <tr>\n",
       "      <th>4</th>\n",
       "      <td>T5</td>\n",
       "      <td>6329</td>\n",
       "      <td>1762.5</td>\n",
       "      <td>9088909091</td>\n",
       "    </tr>\n",
       "  </tbody>\n",
       "</table>\n",
       "</div>"
      ],
      "text/plain": [
       "  TransactionID  Time  TransactionAmount (INR)      Mobile\n",
       "0            T1  6242                     25.0  9088909087\n",
       "1            T2  3761                  27999.0  9088909088\n",
       "2            T3  5747                    459.0  9088909089\n",
       "3            T4  3590                   2060.0  9088909090\n",
       "4            T5  6329                   1762.5  9088909091"
      ]
     },
     "execution_count": 66,
     "metadata": {},
     "output_type": "execute_result"
    }
   ],
   "source": [
    "x.head()"
   ]
  },
  {
   "cell_type": "code",
   "execution_count": 67,
   "id": "82e98ab8",
   "metadata": {},
   "outputs": [
    {
     "data": {
      "text/plain": [
       "0    0\n",
       "1    0\n",
       "2    0\n",
       "3    0\n",
       "4    0\n",
       "Name: IsFraud, dtype: int64"
      ]
     },
     "execution_count": 67,
     "metadata": {},
     "output_type": "execute_result"
    }
   ],
   "source": [
    "y.head()"
   ]
  },
  {
   "cell_type": "code",
   "execution_count": 68,
   "id": "8449edff",
   "metadata": {},
   "outputs": [
    {
     "data": {
      "text/plain": [
       "Index(['TransactionID', 'Time', 'TransactionAmount (INR)', 'Mobile'], dtype='object')"
      ]
     },
     "execution_count": 68,
     "metadata": {},
     "output_type": "execute_result"
    }
   ],
   "source": [
    "x.columns"
   ]
  },
  {
   "cell_type": "code",
   "execution_count": 69,
   "id": "51b3a82a",
   "metadata": {},
   "outputs": [],
   "source": [
    "from sklearn import preprocessing\n",
    "le = preprocessing.LabelEncoder()\n",
    "x['TransactionID']=le.fit_transform(x.TransactionID.values)"
   ]
  },
  {
   "cell_type": "code",
   "execution_count": 70,
   "id": "79e167a2",
   "metadata": {},
   "outputs": [
    {
     "data": {
      "text/plain": [
       "array([10176])"
      ]
     },
     "execution_count": 70,
     "metadata": {},
     "output_type": "execute_result"
    }
   ],
   "source": [
    "le.transform(np.array(['T2']))"
   ]
  },
  {
   "cell_type": "code",
   "execution_count": 71,
   "id": "0f523d1f",
   "metadata": {},
   "outputs": [
    {
     "data": {
      "text/html": [
       "<div>\n",
       "<style scoped>\n",
       "    .dataframe tbody tr th:only-of-type {\n",
       "        vertical-align: middle;\n",
       "    }\n",
       "\n",
       "    .dataframe tbody tr th {\n",
       "        vertical-align: top;\n",
       "    }\n",
       "\n",
       "    .dataframe thead th {\n",
       "        text-align: right;\n",
       "    }\n",
       "</style>\n",
       "<table border=\"1\" class=\"dataframe\">\n",
       "  <thead>\n",
       "    <tr style=\"text-align: right;\">\n",
       "      <th></th>\n",
       "      <th>TransactionID</th>\n",
       "      <th>Time</th>\n",
       "      <th>TransactionAmount (INR)</th>\n",
       "      <th>Mobile</th>\n",
       "    </tr>\n",
       "  </thead>\n",
       "  <tbody>\n",
       "    <tr>\n",
       "      <th>0</th>\n",
       "      <td>0</td>\n",
       "      <td>6242</td>\n",
       "      <td>25.0</td>\n",
       "      <td>9088909087</td>\n",
       "    </tr>\n",
       "    <tr>\n",
       "      <th>1</th>\n",
       "      <td>10176</td>\n",
       "      <td>3761</td>\n",
       "      <td>27999.0</td>\n",
       "      <td>9088909088</td>\n",
       "    </tr>\n",
       "    <tr>\n",
       "      <th>2</th>\n",
       "      <td>20931</td>\n",
       "      <td>5747</td>\n",
       "      <td>459.0</td>\n",
       "      <td>9088909089</td>\n",
       "    </tr>\n",
       "    <tr>\n",
       "      <th>3</th>\n",
       "      <td>31041</td>\n",
       "      <td>3590</td>\n",
       "      <td>2060.0</td>\n",
       "      <td>9088909090</td>\n",
       "    </tr>\n",
       "    <tr>\n",
       "      <th>4</th>\n",
       "      <td>41248</td>\n",
       "      <td>6329</td>\n",
       "      <td>1762.5</td>\n",
       "      <td>9088909091</td>\n",
       "    </tr>\n",
       "    <tr>\n",
       "      <th>...</th>\n",
       "      <td>...</td>\n",
       "      <td>...</td>\n",
       "      <td>...</td>\n",
       "      <td>...</td>\n",
       "    </tr>\n",
       "    <tr>\n",
       "      <th>90774</th>\n",
       "      <td>50627</td>\n",
       "      <td>3727</td>\n",
       "      <td>1526.0</td>\n",
       "      <td>9088910265</td>\n",
       "    </tr>\n",
       "    <tr>\n",
       "      <th>90775</th>\n",
       "      <td>50638</td>\n",
       "      <td>1521</td>\n",
       "      <td>1527.0</td>\n",
       "      <td>9088910266</td>\n",
       "    </tr>\n",
       "    <tr>\n",
       "      <th>90776</th>\n",
       "      <td>50649</td>\n",
       "      <td>6265</td>\n",
       "      <td>1528.0</td>\n",
       "      <td>9088910267</td>\n",
       "    </tr>\n",
       "    <tr>\n",
       "      <th>90777</th>\n",
       "      <td>50660</td>\n",
       "      <td>17</td>\n",
       "      <td>1529.0</td>\n",
       "      <td>9088910268</td>\n",
       "    </tr>\n",
       "    <tr>\n",
       "      <th>90778</th>\n",
       "      <td>50671</td>\n",
       "      <td>1077</td>\n",
       "      <td>1530.0</td>\n",
       "      <td>9088910269</td>\n",
       "    </tr>\n",
       "  </tbody>\n",
       "</table>\n",
       "<p>90779 rows × 4 columns</p>\n",
       "</div>"
      ],
      "text/plain": [
       "       TransactionID  Time  TransactionAmount (INR)      Mobile\n",
       "0                  0  6242                     25.0  9088909087\n",
       "1              10176  3761                  27999.0  9088909088\n",
       "2              20931  5747                    459.0  9088909089\n",
       "3              31041  3590                   2060.0  9088909090\n",
       "4              41248  6329                   1762.5  9088909091\n",
       "...              ...   ...                      ...         ...\n",
       "90774          50627  3727                   1526.0  9088910265\n",
       "90775          50638  1521                   1527.0  9088910266\n",
       "90776          50649  6265                   1528.0  9088910267\n",
       "90777          50660    17                   1529.0  9088910268\n",
       "90778          50671  1077                   1530.0  9088910269\n",
       "\n",
       "[90779 rows x 4 columns]"
      ]
     },
     "execution_count": 71,
     "metadata": {},
     "output_type": "execute_result"
    }
   ],
   "source": [
    "x"
   ]
  },
  {
   "cell_type": "code",
   "execution_count": 72,
   "id": "1c094f49",
   "metadata": {},
   "outputs": [],
   "source": [
    "from sklearn.preprocessing import StandardScaler"
   ]
  },
  {
   "cell_type": "code",
   "execution_count": 73,
   "id": "5392ae5b",
   "metadata": {},
   "outputs": [],
   "source": [
    "sc=StandardScaler()\n",
    "\n",
    "x3=sc.fit_transform(x)"
   ]
  },
  {
   "cell_type": "code",
   "execution_count": 74,
   "id": "e5169855",
   "metadata": {},
   "outputs": [
    {
     "data": {
      "text/plain": [
       "array([[-1.73246167e+00,  1.35841208e+00, -2.40000538e-01,\n",
       "        -4.01080430e+00],\n",
       "       [-1.32021657e+00,  1.29333240e-01,  4.18091775e+00,\n",
       "        -4.00614501e+00],\n",
       "       [-8.84515318e-01,  1.11319079e+00, -1.71412615e-01,\n",
       "        -4.00148572e+00],\n",
       "       ...,\n",
       "       [ 3.19405643e-01,  1.36980620e+00, -2.47139691e-03,\n",
       "         1.48716060e+00],\n",
       "       [ 3.19851269e-01, -1.72543144e+00, -2.31336022e-03,\n",
       "         1.49181990e+00],\n",
       "       [ 3.20296896e-01, -1.20031110e+00, -2.15532354e-03,\n",
       "         1.49647919e+00]])"
      ]
     },
     "execution_count": 74,
     "metadata": {},
     "output_type": "execute_result"
    }
   ],
   "source": [
    "x3"
   ]
  },
  {
   "cell_type": "code",
   "execution_count": 75,
   "id": "abc1f687",
   "metadata": {},
   "outputs": [],
   "source": [
    "xtrain,xtest,ytrain,ytest=train_test_split(np.array(x3),np.array(y),test_size=0.3,shuffle=True)"
   ]
  },
  {
   "cell_type": "code",
   "execution_count": 76,
   "id": "58689bad",
   "metadata": {},
   "outputs": [
    {
     "name": "stdout",
     "output_type": "stream",
     "text": [
      "Size of the Training set: 63545\n",
      "Size of the Testing set: 27234\n"
     ]
    }
   ],
   "source": [
    "print(\"Size of the Training set:\",len(xtrain))\n",
    "print(\"Size of the Testing set:\",len(xtest))"
   ]
  },
  {
   "cell_type": "code",
   "execution_count": 77,
   "id": "732f1bd4",
   "metadata": {},
   "outputs": [
    {
     "data": {
      "text/plain": [
       "array([0, 0, 0, ..., 0, 0, 0], dtype=int64)"
      ]
     },
     "execution_count": 77,
     "metadata": {},
     "output_type": "execute_result"
    }
   ],
   "source": [
    "ytrain"
   ]
  },
  {
   "cell_type": "code",
   "execution_count": 78,
   "id": "ce43a838",
   "metadata": {},
   "outputs": [
    {
     "name": "stdout",
     "output_type": "stream",
     "text": [
      "The fraudulent data in training set: 9238\n",
      "the non fraudulent data in training set 54307\n"
     ]
    }
   ],
   "source": [
    "i,j=0,0\n",
    "for a in ytrain:\n",
    "    if a==1:\n",
    "        i+=1\n",
    "    else:\n",
    "        j+=1\n",
    "        \n",
    "print(\"The fraudulent data in training set:\",i)\n",
    "print(\"the non fraudulent data in training set\",j)"
   ]
  },
  {
   "cell_type": "code",
   "execution_count": 79,
   "id": "a3d7b1ef",
   "metadata": {},
   "outputs": [
    {
     "name": "stdout",
     "output_type": "stream",
     "text": [
      "The fraudulent data in testing set: 4028\n",
      "the non fraudulent data in testing set 23206\n"
     ]
    }
   ],
   "source": [
    "i,j=0,0\n",
    "for a in ytest:\n",
    "    if a==1:\n",
    "        i+=1\n",
    "    else:\n",
    "        j+=1\n",
    "        \n",
    "print(\"The fraudulent data in testing set:\",i)\n",
    "print(\"the non fraudulent data in testing set\",j)"
   ]
  },
  {
   "cell_type": "code",
   "execution_count": 80,
   "id": "af8817e3",
   "metadata": {},
   "outputs": [],
   "source": [
    "rf_clf = RandomForestClassifier(n_estimators=100,max_depth=10,random_state=42,\n",
    "                                verbose=1,class_weight=\"balanced\")"
   ]
  },
  {
   "cell_type": "code",
   "execution_count": 81,
   "id": "40154dc4",
   "metadata": {},
   "outputs": [
    {
     "name": "stderr",
     "output_type": "stream",
     "text": [
      "[Parallel(n_jobs=1)]: Using backend SequentialBackend with 1 concurrent workers.\n",
      "[Parallel(n_jobs=1)]: Done 100 out of 100 | elapsed:    3.9s finished\n"
     ]
    },
    {
     "data": {
      "text/html": [
       "<style>#sk-container-id-2 {color: black;background-color: white;}#sk-container-id-2 pre{padding: 0;}#sk-container-id-2 div.sk-toggleable {background-color: white;}#sk-container-id-2 label.sk-toggleable__label {cursor: pointer;display: block;width: 100%;margin-bottom: 0;padding: 0.3em;box-sizing: border-box;text-align: center;}#sk-container-id-2 label.sk-toggleable__label-arrow:before {content: \"▸\";float: left;margin-right: 0.25em;color: #696969;}#sk-container-id-2 label.sk-toggleable__label-arrow:hover:before {color: black;}#sk-container-id-2 div.sk-estimator:hover label.sk-toggleable__label-arrow:before {color: black;}#sk-container-id-2 div.sk-toggleable__content {max-height: 0;max-width: 0;overflow: hidden;text-align: left;background-color: #f0f8ff;}#sk-container-id-2 div.sk-toggleable__content pre {margin: 0.2em;color: black;border-radius: 0.25em;background-color: #f0f8ff;}#sk-container-id-2 input.sk-toggleable__control:checked~div.sk-toggleable__content {max-height: 200px;max-width: 100%;overflow: auto;}#sk-container-id-2 input.sk-toggleable__control:checked~label.sk-toggleable__label-arrow:before {content: \"▾\";}#sk-container-id-2 div.sk-estimator input.sk-toggleable__control:checked~label.sk-toggleable__label {background-color: #d4ebff;}#sk-container-id-2 div.sk-label input.sk-toggleable__control:checked~label.sk-toggleable__label {background-color: #d4ebff;}#sk-container-id-2 input.sk-hidden--visually {border: 0;clip: rect(1px 1px 1px 1px);clip: rect(1px, 1px, 1px, 1px);height: 1px;margin: -1px;overflow: hidden;padding: 0;position: absolute;width: 1px;}#sk-container-id-2 div.sk-estimator {font-family: monospace;background-color: #f0f8ff;border: 1px dotted black;border-radius: 0.25em;box-sizing: border-box;margin-bottom: 0.5em;}#sk-container-id-2 div.sk-estimator:hover {background-color: #d4ebff;}#sk-container-id-2 div.sk-parallel-item::after {content: \"\";width: 100%;border-bottom: 1px solid gray;flex-grow: 1;}#sk-container-id-2 div.sk-label:hover label.sk-toggleable__label {background-color: #d4ebff;}#sk-container-id-2 div.sk-serial::before {content: \"\";position: absolute;border-left: 1px solid gray;box-sizing: border-box;top: 0;bottom: 0;left: 50%;z-index: 0;}#sk-container-id-2 div.sk-serial {display: flex;flex-direction: column;align-items: center;background-color: white;padding-right: 0.2em;padding-left: 0.2em;position: relative;}#sk-container-id-2 div.sk-item {position: relative;z-index: 1;}#sk-container-id-2 div.sk-parallel {display: flex;align-items: stretch;justify-content: center;background-color: white;position: relative;}#sk-container-id-2 div.sk-item::before, #sk-container-id-2 div.sk-parallel-item::before {content: \"\";position: absolute;border-left: 1px solid gray;box-sizing: border-box;top: 0;bottom: 0;left: 50%;z-index: -1;}#sk-container-id-2 div.sk-parallel-item {display: flex;flex-direction: column;z-index: 1;position: relative;background-color: white;}#sk-container-id-2 div.sk-parallel-item:first-child::after {align-self: flex-end;width: 50%;}#sk-container-id-2 div.sk-parallel-item:last-child::after {align-self: flex-start;width: 50%;}#sk-container-id-2 div.sk-parallel-item:only-child::after {width: 0;}#sk-container-id-2 div.sk-dashed-wrapped {border: 1px dashed gray;margin: 0 0.4em 0.5em 0.4em;box-sizing: border-box;padding-bottom: 0.4em;background-color: white;}#sk-container-id-2 div.sk-label label {font-family: monospace;font-weight: bold;display: inline-block;line-height: 1.2em;}#sk-container-id-2 div.sk-label-container {text-align: center;}#sk-container-id-2 div.sk-container {/* jupyter's `normalize.less` sets `[hidden] { display: none; }` but bootstrap.min.css set `[hidden] { display: none !important; }` so we also need the `!important` here to be able to override the default hidden behavior on the sphinx rendered scikit-learn.org. See: https://github.com/scikit-learn/scikit-learn/issues/21755 */display: inline-block !important;position: relative;}#sk-container-id-2 div.sk-text-repr-fallback {display: none;}</style><div id=\"sk-container-id-2\" class=\"sk-top-container\"><div class=\"sk-text-repr-fallback\"><pre>RandomForestClassifier(class_weight=&#x27;balanced&#x27;, max_depth=10, random_state=42,\n",
       "                       verbose=1)</pre><b>In a Jupyter environment, please rerun this cell to show the HTML representation or trust the notebook. <br />On GitHub, the HTML representation is unable to render, please try loading this page with nbviewer.org.</b></div><div class=\"sk-container\" hidden><div class=\"sk-item\"><div class=\"sk-estimator sk-toggleable\"><input class=\"sk-toggleable__control sk-hidden--visually\" id=\"sk-estimator-id-2\" type=\"checkbox\" checked><label for=\"sk-estimator-id-2\" class=\"sk-toggleable__label sk-toggleable__label-arrow\">RandomForestClassifier</label><div class=\"sk-toggleable__content\"><pre>RandomForestClassifier(class_weight=&#x27;balanced&#x27;, max_depth=10, random_state=42,\n",
       "                       verbose=1)</pre></div></div></div></div></div>"
      ],
      "text/plain": [
       "RandomForestClassifier(class_weight='balanced', max_depth=10, random_state=42,\n",
       "                       verbose=1)"
      ]
     },
     "execution_count": 81,
     "metadata": {},
     "output_type": "execute_result"
    }
   ],
   "source": [
    "rf_clf.fit(xtrain,ytrain)"
   ]
  },
  {
   "cell_type": "code",
   "execution_count": 82,
   "id": "c0116adf",
   "metadata": {},
   "outputs": [
    {
     "name": "stderr",
     "output_type": "stream",
     "text": [
      "[Parallel(n_jobs=1)]: Using backend SequentialBackend with 1 concurrent workers.\n",
      "[Parallel(n_jobs=1)]: Done 100 out of 100 | elapsed:    0.1s finished\n"
     ]
    }
   ],
   "source": [
    "y_pred1=rf_clf.predict(xtest)"
   ]
  },
  {
   "cell_type": "code",
   "execution_count": 83,
   "id": "3311a82a",
   "metadata": {},
   "outputs": [
    {
     "data": {
      "text/plain": [
       "array([0, 0, 0, ..., 0, 0, 0], dtype=int64)"
      ]
     },
     "execution_count": 83,
     "metadata": {},
     "output_type": "execute_result"
    }
   ],
   "source": [
    "y_pred1"
   ]
  },
  {
   "cell_type": "code",
   "execution_count": 84,
   "id": "a4fb6cea",
   "metadata": {},
   "outputs": [
    {
     "data": {
      "text/plain": [
       "array([0, 0, 0, ..., 0, 0, 0], dtype=int64)"
      ]
     },
     "execution_count": 84,
     "metadata": {},
     "output_type": "execute_result"
    }
   ],
   "source": [
    "ytest"
   ]
  },
  {
   "cell_type": "code",
   "execution_count": 85,
   "id": "a0c2b55f",
   "metadata": {},
   "outputs": [
    {
     "name": "stdout",
     "output_type": "stream",
     "text": [
      "Classification Report for Random Forest: \n",
      "               precision    recall  f1-score   support\n",
      "\n",
      "           0       1.00      1.00      1.00     23206\n",
      "           1       1.00      0.98      0.99      4028\n",
      "\n",
      "    accuracy                           1.00     27234\n",
      "   macro avg       1.00      0.99      0.99     27234\n",
      "weighted avg       1.00      1.00      1.00     27234\n",
      "\n",
      "Confusion Matrix of Random Forest: \n",
      " [[23204     2]\n",
      " [   72  3956]]\n"
     ]
    }
   ],
   "source": [
    "print(\"Classification Report for Random Forest: \\n\", classification_report(ytest, y_pred1))\n",
    "\n",
    "print(\"Confusion Matrix of Random Forest: \\n\", confusion_matrix(ytest,y_pred1))"
   ]
  },
  {
   "cell_type": "code",
   "execution_count": 86,
   "id": "4c8a73aa",
   "metadata": {},
   "outputs": [
    {
     "name": "stdout",
     "output_type": "stream",
     "text": [
      "the accuracy is : 0.9972828082543879\n"
     ]
    }
   ],
   "source": [
    "from sklearn.metrics import accuracy_score\n",
    "print('the accuracy is :',accuracy_score(ytest,y_pred1))"
   ]
  },
  {
   "cell_type": "code",
   "execution_count": 87,
   "id": "0a66afd7",
   "metadata": {},
   "outputs": [
    {
     "data": {
      "text/plain": [
       "41248"
      ]
     },
     "execution_count": 87,
     "metadata": {},
     "output_type": "execute_result"
    }
   ],
   "source": [
    "id=le.transform(np.array(['T5']))\n",
    "id[0]"
   ]
  },
  {
   "cell_type": "code",
   "execution_count": 88,
   "id": "b0b0b9d5",
   "metadata": {},
   "outputs": [
    {
     "name": "stderr",
     "output_type": "stream",
     "text": [
      "C:\\Users\\dell\\anaconda3\\envs\\tensorflow\\lib\\site-packages\\sklearn\\base.py:450: UserWarning: X does not have valid feature names, but StandardScaler was fitted with feature names\n",
      "  warnings.warn(\n"
     ]
    }
   ],
   "source": [
    "l=np.array([[id[0],8300,0,'9088909903']])\n",
    "l=sc.transform(l)"
   ]
  },
  {
   "cell_type": "code",
   "execution_count": 89,
   "id": "94dded16",
   "metadata": {},
   "outputs": [
    {
     "data": {
      "text/plain": [
       "array([[-0.06144303,  2.37793818, -0.24395145, -0.20882179]])"
      ]
     },
     "execution_count": 89,
     "metadata": {},
     "output_type": "execute_result"
    }
   ],
   "source": [
    "l"
   ]
  },
  {
   "cell_type": "code",
   "execution_count": 90,
   "id": "2c23b2b4",
   "metadata": {},
   "outputs": [
    {
     "name": "stderr",
     "output_type": "stream",
     "text": [
      "[Parallel(n_jobs=1)]: Using backend SequentialBackend with 1 concurrent workers.\n",
      "[Parallel(n_jobs=1)]: Done 100 out of 100 | elapsed:    0.0s finished\n"
     ]
    },
    {
     "data": {
      "text/plain": [
       "array([1], dtype=int64)"
      ]
     },
     "execution_count": 90,
     "metadata": {},
     "output_type": "execute_result"
    }
   ],
   "source": [
    "rf_clf.predict(l)"
   ]
  },
  {
   "cell_type": "code",
   "execution_count": 76,
   "id": "9ab4181d",
   "metadata": {},
   "outputs": [
    {
     "name": "stdout",
     "output_type": "stream",
     "text": [
      "Input\n",
      "enter the TransactionId\n",
      "T1\n",
      "enter the Transaction date\n",
      "12/12/2000\n",
      "enter the Transactions time gap between each mobile\n",
      "1200\n",
      "enter the Transaction Amount\n",
      "0\n",
      "enter the mobile number\n",
      "9740653908\n"
     ]
    }
   ],
   "source": [
    "print(\"Input\")\n",
    "print(\"enter the TransactionId\")\n",
    "id=input()\n",
    "print(\"enter the Transaction date\")\n",
    "dt=input()\n",
    "print(\"enter the Transactions time gap between each mobile\")\n",
    "time=float(input())\n",
    "print(\"enter the Transaction Amount\")\n",
    "amount=int(input())\n",
    "print(\"enter the mobile number\")\n",
    "number=input()"
   ]
  },
  {
   "cell_type": "code",
   "execution_count": 77,
   "id": "46e94242",
   "metadata": {},
   "outputs": [
    {
     "data": {
      "text/plain": [
       "0"
      ]
     },
     "execution_count": 77,
     "metadata": {},
     "output_type": "execute_result"
    }
   ],
   "source": [
    "id=le.transform(np.array([id]))\n",
    "id[0]"
   ]
  },
  {
   "cell_type": "code",
   "execution_count": 84,
   "id": "74b705c5",
   "metadata": {},
   "outputs": [
    {
     "name": "stderr",
     "output_type": "stream",
     "text": [
      "C:\\Users\\dell\\anaconda3\\envs\\tensorflow\\lib\\site-packages\\sklearn\\base.py:450: UserWarning: X does not have valid feature names, but StandardScaler was fitted with feature names\n",
      "  warnings.warn(\n"
     ]
    }
   ],
   "source": [
    "l=np.array([[id[0],time,8,number]])\n",
    "l=sc.transform(l)"
   ]
  },
  {
   "cell_type": "code",
   "execution_count": 85,
   "id": "77d21a6f",
   "metadata": {},
   "outputs": [
    {
     "name": "stdout",
     "output_type": "stream",
     "text": [
      "d1 = 23/09/2022\n"
     ]
    }
   ],
   "source": [
    "from datetime import date\n",
    "from datetime import datetime\n",
    "today = date.today()\n",
    "\n",
    "# dd/mm/YY\n",
    "d1 = today.strftime(\"%d/%m/%Y\")\n",
    "print(\"d1 =\", d1)\n",
    "d1 = datetime.strptime(d1, \"%d/%m/%Y\")\n",
    "d2 = datetime.strptime(dt, \"%d/%m/%Y\")"
   ]
  },
  {
   "cell_type": "code",
   "execution_count": 87,
   "id": "8e563e68",
   "metadata": {},
   "outputs": [
    {
     "name": "stdout",
     "output_type": "stream",
     "text": [
      "[0]\n"
     ]
    },
    {
     "name": "stderr",
     "output_type": "stream",
     "text": [
      "[Parallel(n_jobs=1)]: Using backend SequentialBackend with 1 concurrent workers.\n",
      "[Parallel(n_jobs=1)]: Done 100 out of 100 | elapsed:    0.0s finished\n"
     ]
    }
   ],
   "source": [
    "if d1>=d2:\n",
    "    print(rf_clf.predict(l))\n",
    "else:\n",
    "    print(1)"
   ]
  },
  {
   "cell_type": "code",
   "execution_count": null,
   "id": "4404103f",
   "metadata": {},
   "outputs": [],
   "source": []
  },
  {
   "cell_type": "code",
   "execution_count": null,
   "id": "4d00666b",
   "metadata": {},
   "outputs": [],
   "source": []
  },
  {
   "cell_type": "code",
   "execution_count": null,
   "id": "6185e8da",
   "metadata": {},
   "outputs": [],
   "source": []
  },
  {
   "cell_type": "code",
   "execution_count": null,
   "id": "32c2ad95",
   "metadata": {},
   "outputs": [],
   "source": []
  },
  {
   "cell_type": "code",
   "execution_count": null,
   "id": "e94a0a93",
   "metadata": {},
   "outputs": [],
   "source": []
  },
  {
   "cell_type": "code",
   "execution_count": null,
   "id": "db9152ff",
   "metadata": {},
   "outputs": [],
   "source": []
  },
  {
   "cell_type": "code",
   "execution_count": 507,
   "id": "8571172e",
   "metadata": {},
   "outputs": [
    {
     "data": {
      "text/html": [
       "<style>#sk-container-id-8 {color: black;background-color: white;}#sk-container-id-8 pre{padding: 0;}#sk-container-id-8 div.sk-toggleable {background-color: white;}#sk-container-id-8 label.sk-toggleable__label {cursor: pointer;display: block;width: 100%;margin-bottom: 0;padding: 0.3em;box-sizing: border-box;text-align: center;}#sk-container-id-8 label.sk-toggleable__label-arrow:before {content: \"▸\";float: left;margin-right: 0.25em;color: #696969;}#sk-container-id-8 label.sk-toggleable__label-arrow:hover:before {color: black;}#sk-container-id-8 div.sk-estimator:hover label.sk-toggleable__label-arrow:before {color: black;}#sk-container-id-8 div.sk-toggleable__content {max-height: 0;max-width: 0;overflow: hidden;text-align: left;background-color: #f0f8ff;}#sk-container-id-8 div.sk-toggleable__content pre {margin: 0.2em;color: black;border-radius: 0.25em;background-color: #f0f8ff;}#sk-container-id-8 input.sk-toggleable__control:checked~div.sk-toggleable__content {max-height: 200px;max-width: 100%;overflow: auto;}#sk-container-id-8 input.sk-toggleable__control:checked~label.sk-toggleable__label-arrow:before {content: \"▾\";}#sk-container-id-8 div.sk-estimator input.sk-toggleable__control:checked~label.sk-toggleable__label {background-color: #d4ebff;}#sk-container-id-8 div.sk-label input.sk-toggleable__control:checked~label.sk-toggleable__label {background-color: #d4ebff;}#sk-container-id-8 input.sk-hidden--visually {border: 0;clip: rect(1px 1px 1px 1px);clip: rect(1px, 1px, 1px, 1px);height: 1px;margin: -1px;overflow: hidden;padding: 0;position: absolute;width: 1px;}#sk-container-id-8 div.sk-estimator {font-family: monospace;background-color: #f0f8ff;border: 1px dotted black;border-radius: 0.25em;box-sizing: border-box;margin-bottom: 0.5em;}#sk-container-id-8 div.sk-estimator:hover {background-color: #d4ebff;}#sk-container-id-8 div.sk-parallel-item::after {content: \"\";width: 100%;border-bottom: 1px solid gray;flex-grow: 1;}#sk-container-id-8 div.sk-label:hover label.sk-toggleable__label {background-color: #d4ebff;}#sk-container-id-8 div.sk-serial::before {content: \"\";position: absolute;border-left: 1px solid gray;box-sizing: border-box;top: 0;bottom: 0;left: 50%;z-index: 0;}#sk-container-id-8 div.sk-serial {display: flex;flex-direction: column;align-items: center;background-color: white;padding-right: 0.2em;padding-left: 0.2em;position: relative;}#sk-container-id-8 div.sk-item {position: relative;z-index: 1;}#sk-container-id-8 div.sk-parallel {display: flex;align-items: stretch;justify-content: center;background-color: white;position: relative;}#sk-container-id-8 div.sk-item::before, #sk-container-id-8 div.sk-parallel-item::before {content: \"\";position: absolute;border-left: 1px solid gray;box-sizing: border-box;top: 0;bottom: 0;left: 50%;z-index: -1;}#sk-container-id-8 div.sk-parallel-item {display: flex;flex-direction: column;z-index: 1;position: relative;background-color: white;}#sk-container-id-8 div.sk-parallel-item:first-child::after {align-self: flex-end;width: 50%;}#sk-container-id-8 div.sk-parallel-item:last-child::after {align-self: flex-start;width: 50%;}#sk-container-id-8 div.sk-parallel-item:only-child::after {width: 0;}#sk-container-id-8 div.sk-dashed-wrapped {border: 1px dashed gray;margin: 0 0.4em 0.5em 0.4em;box-sizing: border-box;padding-bottom: 0.4em;background-color: white;}#sk-container-id-8 div.sk-label label {font-family: monospace;font-weight: bold;display: inline-block;line-height: 1.2em;}#sk-container-id-8 div.sk-label-container {text-align: center;}#sk-container-id-8 div.sk-container {/* jupyter's `normalize.less` sets `[hidden] { display: none; }` but bootstrap.min.css set `[hidden] { display: none !important; }` so we also need the `!important` here to be able to override the default hidden behavior on the sphinx rendered scikit-learn.org. See: https://github.com/scikit-learn/scikit-learn/issues/21755 */display: inline-block !important;position: relative;}#sk-container-id-8 div.sk-text-repr-fallback {display: none;}</style><div id=\"sk-container-id-8\" class=\"sk-top-container\"><div class=\"sk-text-repr-fallback\"><pre>KNeighborsClassifier(p=1)</pre><b>In a Jupyter environment, please rerun this cell to show the HTML representation or trust the notebook. <br />On GitHub, the HTML representation is unable to render, please try loading this page with nbviewer.org.</b></div><div class=\"sk-container\" hidden><div class=\"sk-item\"><div class=\"sk-estimator sk-toggleable\"><input class=\"sk-toggleable__control sk-hidden--visually\" id=\"sk-estimator-id-8\" type=\"checkbox\" checked><label for=\"sk-estimator-id-8\" class=\"sk-toggleable__label sk-toggleable__label-arrow\">KNeighborsClassifier</label><div class=\"sk-toggleable__content\"><pre>KNeighborsClassifier(p=1)</pre></div></div></div></div></div>"
      ],
      "text/plain": [
       "KNeighborsClassifier(p=1)"
      ]
     },
     "execution_count": 507,
     "metadata": {},
     "output_type": "execute_result"
    }
   ],
   "source": [
    "knn = KNeighborsClassifier(n_neighbors=5,p=1)\n",
    "\n",
    "knn.fit(xtrain,ytrain)"
   ]
  },
  {
   "cell_type": "code",
   "execution_count": 508,
   "id": "92a02e8a",
   "metadata": {},
   "outputs": [],
   "source": [
    "y_pred = knn.predict(xtest)"
   ]
  },
  {
   "cell_type": "code",
   "execution_count": 509,
   "id": "a66d8053",
   "metadata": {},
   "outputs": [
    {
     "data": {
      "text/plain": [
       "array([0, 0, 0, ..., 0, 0, 0], dtype=int64)"
      ]
     },
     "execution_count": 509,
     "metadata": {},
     "output_type": "execute_result"
    }
   ],
   "source": [
    "y_pred"
   ]
  },
  {
   "cell_type": "code",
   "execution_count": 510,
   "id": "74b8b289",
   "metadata": {},
   "outputs": [
    {
     "data": {
      "text/plain": [
       "array([0, 0, 0, ..., 0, 1, 0], dtype=int64)"
      ]
     },
     "execution_count": 510,
     "metadata": {},
     "output_type": "execute_result"
    }
   ],
   "source": [
    "ytest"
   ]
  },
  {
   "cell_type": "code",
   "execution_count": 566,
   "id": "17e8a6c2",
   "metadata": {},
   "outputs": [
    {
     "data": {
      "text/plain": [
       "(27234, 4)"
      ]
     },
     "execution_count": 566,
     "metadata": {},
     "output_type": "execute_result"
    }
   ],
   "source": [
    "xtest.shape"
   ]
  },
  {
   "cell_type": "code",
   "execution_count": 567,
   "id": "512e392a",
   "metadata": {},
   "outputs": [
    {
     "data": {
      "text/plain": [
       "(27234,)"
      ]
     },
     "execution_count": 567,
     "metadata": {},
     "output_type": "execute_result"
    }
   ],
   "source": [
    "ytest.shape"
   ]
  },
  {
   "cell_type": "code",
   "execution_count": 571,
   "id": "d013bd00",
   "metadata": {},
   "outputs": [
    {
     "name": "stdout",
     "output_type": "stream",
     "text": [
      "(27234, 1)\n"
     ]
    }
   ],
   "source": [
    "print(ytest.reshape(len(ytest),1).shape)"
   ]
  },
  {
   "cell_type": "code",
   "execution_count": null,
   "id": "162c2deb",
   "metadata": {},
   "outputs": [],
   "source": []
  },
  {
   "cell_type": "code",
   "execution_count": null,
   "id": "a86d2145",
   "metadata": {},
   "outputs": [],
   "source": []
  },
  {
   "cell_type": "code",
   "execution_count": 580,
   "id": "b07f9205",
   "metadata": {},
   "outputs": [
    {
     "name": "stdout",
     "output_type": "stream",
     "text": [
      "27234 27234\n"
     ]
    }
   ],
   "source": [
    "print(len(y_pred),len(ytest))"
   ]
  },
  {
   "cell_type": "code",
   "execution_count": 581,
   "id": "bd55d358",
   "metadata": {},
   "outputs": [
    {
     "name": "stdout",
     "output_type": "stream",
     "text": [
      "Classification Report for K-Nearest Neighbours: \n",
      "               precision    recall  f1-score   support\n",
      "\n",
      "           0       0.99      1.00      1.00     23218\n",
      "           1       0.99      0.96      0.97      4016\n",
      "\n",
      "    accuracy                           0.99     27234\n",
      "   macro avg       0.99      0.98      0.98     27234\n",
      "weighted avg       0.99      0.99      0.99     27234\n",
      "\n",
      "Confusion Matrix of K-Nearest Neigbours: \n",
      " [[23163    55]\n",
      " [  172  3844]]\n"
     ]
    }
   ],
   "source": [
    "print(\"Classification Report for K-Nearest Neighbours: \\n\", classification_report(ytest, y_pred))\n",
    "\n",
    "print(\"Confusion Matrix of K-Nearest Neigbours: \\n\", confusion_matrix(ytest,y_pred))"
   ]
  },
  {
   "cell_type": "code",
   "execution_count": 582,
   "id": "c2cc88a9",
   "metadata": {},
   "outputs": [],
   "source": [
    "from sklearn.metrics import accuracy_score"
   ]
  },
  {
   "cell_type": "code",
   "execution_count": 583,
   "id": "28641bba",
   "metadata": {},
   "outputs": [
    {
     "name": "stdout",
     "output_type": "stream",
     "text": [
      "the accuracy is : 0.991664830726298\n"
     ]
    }
   ],
   "source": [
    "print('the accuracy is :',accuracy_score(ytest,y_pred))"
   ]
  }
 ],
 "metadata": {
  "kernelspec": {
   "display_name": "Python 3 (ipykernel)",
   "language": "python",
   "name": "python3"
  },
  "language_info": {
   "codemirror_mode": {
    "name": "ipython",
    "version": 3
   },
   "file_extension": ".py",
   "mimetype": "text/x-python",
   "name": "python",
   "nbconvert_exporter": "python",
   "pygments_lexer": "ipython3",
   "version": "3.8.13"
  }
 },
 "nbformat": 4,
 "nbformat_minor": 5
}
